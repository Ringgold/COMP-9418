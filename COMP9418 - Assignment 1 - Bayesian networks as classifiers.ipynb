{
 "cells": [
  {
   "cell_type": "markdown",
   "source": [
    "# COMP9418 - Assignment 1 - Bayesian Networks as Classifiers\r\n",
    "\r\n",
    "## UNSW Sydney, September 2021\r\n",
    "\r\n",
    "- Ziqiao Ringgold Lin - z5324329\r\n",
    "- Student name 2 - ZID"
   ],
   "metadata": {}
  },
  {
   "cell_type": "markdown",
   "source": [
    "## Instructions\n",
    "\n",
    "**Submission deadline:** Sunday, 17th October 2021, at 18:00:00.\n",
    "\n",
    "**Late Submission Policy:** The penalty is set at 20% per late day. This is ceiling penalty, so if a group is marked 60/100 and they submitted two days late, they still get 60/100.\n",
    "\n",
    "**Form of Submission:** This is a group assignment. Each group can have up to **two** students. **Only one member of the group should submit the assignment**.\n",
    "\n",
    "You can reuse any piece of source code developed in the tutorials.\n",
    "\n",
    "Submit your files using give. On a CSE Linux machine, type the following on the command-line:\n",
    "\n",
    "``$ give cs9418 ass1 solution.zip``\n",
    "\n",
    "Alternative, you can submit your solution via [WebCMS](https://webcms3.cse.unsw.edu.au/COMP9418/21T3)."
   ],
   "metadata": {}
  },
  {
   "cell_type": "markdown",
   "source": [
    "## Technical prerequisites\n",
    "\n",
    "These are the libraries your are allowed to use. No other libraries will be accepted. Make sure you are using Python 3."
   ],
   "metadata": {}
  },
  {
   "cell_type": "code",
   "execution_count": null,
   "source": [
    "# Allowed libraries\r\n",
    "import numpy as np\r\n",
    "import pandas as pd\r\n",
    "import scipy as sp\r\n",
    "import heapq as pq\r\n",
    "import matplotlib as mp\r\n",
    "import math\r\n",
    "from itertools import product, combinations\r\n",
    "from graphviz import Digraph\r\n",
    "from tabulate import tabulate\r\n",
    "import copy"
   ],
   "outputs": [],
   "metadata": {}
  },
  {
   "cell_type": "markdown",
   "source": [
    "We can also use the python files we developed in tutorials, or any other code from the tutorials."
   ],
   "metadata": {}
  },
  {
   "cell_type": "code",
   "execution_count": null,
   "source": [
    "from DiscreteFactors import Factor\r\n",
    "from Graph import Graph\r\n",
    "from BayesNet import BayesNet"
   ],
   "outputs": [],
   "metadata": {}
  },
  {
   "cell_type": "markdown",
   "source": [
    "## Initial task - Initialise graph\n",
    "\n",
    "Create a graph ``G`` that represents the following network by filling in the edge lists.\n",
    "![Bayes Net](BayesNet.png)\n"
   ],
   "metadata": {}
  },
  {
   "cell_type": "code",
   "execution_count": null,
   "source": [
    "G = Graph({\r\n",
    "    \"BreastDensity\" : [],\r\n",
    "    \"Location\" : [],\r\n",
    "    \"Age\" : [],\r\n",
    "    \"BC\" : [],\r\n",
    "    \"Mass\" : [],\r\n",
    "    \"AD\" : [],\r\n",
    "    \"Metastasis\" : [],\r\n",
    "    \"MC\" : [],\r\n",
    "    \"Size\" : [],\r\n",
    "    \"Shape\" : [],\r\n",
    "    \"FibrTissueDev\" : [],\r\n",
    "    \"LymphNodes\" : [],\r\n",
    "    \"SkinRetract\" : [],\r\n",
    "    \"NippleDischarge\" : [],\r\n",
    "    \"Spiculation\" : [],\r\n",
    "    \"Margin\" : [],\r\n",
    "})"
   ],
   "outputs": [],
   "metadata": {}
  },
  {
   "cell_type": "markdown",
   "source": [
    "### Load data"
   ],
   "metadata": {}
  },
  {
   "cell_type": "code",
   "execution_count": null,
   "source": [
    "# load data\r\n",
    "with open('bc.csv') as file:\r\n",
    "    data = pd.read_csv(file)\r\n",
    "\r\n",
    "#remove 2 variables from data (because we are pretending we don't know this information)\r\n",
    "if 'Metastasis' in data:\r\n",
    "    del data['Metastasis']\r\n",
    "if 'LymphNodes' in data:\r\n",
    "    del data['LymphNodes']\r\n",
    "\r\n",
    "# remove same 2 nodes from graph\r\n",
    "G.remove_node('Metastasis')\r\n",
    "G.remove_node('LymphNodes')"
   ],
   "outputs": [],
   "metadata": {}
  },
  {
   "cell_type": "markdown",
   "source": [
    "## [20 Marks] Task 1 - Efficient d-separation test\n",
    "\n",
    "Implement the efficient version of the d-separation algorithm in a function ``d_separation(G, X, Z, Y)`` that return a boolean: ``True`` if **X** is d-separated from **Y** given **Z** in the graph $G$ and ``False`` otherwise.\n",
    "\n",
    "* **X**,**Y** and **Z** are python sets, each containing a set of variable names. \n",
    "* Variable names may be strings or integers, and can be assumed to be nodes of the graph $G$. \n",
    "* $G$ is a directed graph object as defined in tutorial 1."
   ],
   "metadata": {}
  },
  {
   "cell_type": "code",
   "execution_count": null,
   "source": [
    "## Develop your code for d_separation(G, X, Z, Y) in one or more cells here"
   ],
   "outputs": [],
   "metadata": {}
  },
  {
   "cell_type": "code",
   "execution_count": null,
   "source": [
    "def d_separation(G, X, Z, Y):\r\n",
    "    '''\r\n",
    "    Arguments:\r\n",
    "    G:   is an object of type Graph (the class you developed in tutorial 1)\r\n",
    "    X,Z and Y:  are python `set` objects.\r\n",
    "    '''\r\n",
    "    ...\r\n",
    "    return False"
   ],
   "outputs": [],
   "metadata": {}
  },
  {
   "cell_type": "code",
   "execution_count": null,
   "source": [
    "############\n",
    "## TEST CODE\n",
    "## Note: More hidden tests will be used. You should make more tests yourself.\n",
    "\n",
    "def test(statement):\n",
    "    if statement:\n",
    "        print(\"Passed test case\")\n",
    "    else:\n",
    "        print(\"Failed test case\")\n",
    "        \n",
    "test(d_separation(G, set(['Age']), set(['BC']), set(['AD'])))\n",
    "test(not d_separation(G, set(['Spiculation','SkinRetract']), set(['MC', 'Size']), set(['Age'])))"
   ],
   "outputs": [],
   "metadata": {}
  },
  {
   "cell_type": "markdown",
   "source": [
    "## [10 Marks] Task 2 - Estimate Bayesian Network parameters from data\n",
    "\n",
    "Implement a function ``learn_outcome_space(data)`` that learns the outcome space (the valid values for each variable) from the pandas dataframe ``data`` and returns a dictionary ``outcomeSpace`` with these values.\n",
    "\n",
    "Implement a method ``model.learn_parameters(data, alpha=1)`` that learns the parameters of the Bayesian Network `model`. This function should do the same as the ``learn_parameters`` function from tutorials, but it should also implement laplacian smoothing with parameter $\\alpha$."
   ],
   "metadata": {}
  },
  {
   "cell_type": "code",
   "execution_count": null,
   "source": [
    "## Develop your code for learn_outcome_space(data) in one or more cells here"
   ],
   "outputs": [],
   "metadata": {}
  },
  {
   "cell_type": "code",
   "execution_count": null,
   "source": [
    "def learn_outcome_space(data):\r\n",
    "    '''\r\n",
    "    Arguments:\r\n",
    "        data - A pandas dataframe\r\n",
    "    Returns: \r\n",
    "        outcomeSpace - A dictionary. e.g. {'A':('True', 'False'), 'B':('up','down','left'), 'C':(1,2,3,4)}\r\n",
    "    '''\r\n",
    "    ...\r\n",
    "    return outcomeSpace\r\n",
    "\r\n",
    "\r\n",
    "outcomeSpace = learn_outcome_space(data)"
   ],
   "outputs": [],
   "metadata": {}
  },
  {
   "cell_type": "code",
   "execution_count": null,
   "source": [
    "############\n",
    "## TEST CODE\n",
    "\n",
    "outcomeSpace = learn_outcome_space(data)\n",
    "\n",
    "outcomes = outcomeSpace['BreastDensity']\n",
    "answer = ('high', 'medium', 'low')\n",
    "test(len(outcomes) == len(answer) and set(outcomes) == set(answer))"
   ],
   "outputs": [],
   "metadata": {}
  },
  {
   "cell_type": "code",
   "execution_count": null,
   "source": [
    "## Develop your code for learnParameters in one or more cells here"
   ],
   "outputs": [],
   "metadata": {}
  },
  {
   "cell_type": "code",
   "execution_count": null,
   "source": [
    "class BayesNet(BayesNet):\n",
    "    def learn_parameters(self, data, alpha=1):\n",
    "        ...\n",
    "...\n",
    "model = BayesNet(...)"
   ],
   "outputs": [],
   "metadata": {}
  },
  {
   "cell_type": "code",
   "execution_count": null,
   "source": [
    "############\n",
    "## TEST CODE\n",
    "\n",
    "model.learn_parameters(data, alpha=1)\n",
    "\n",
    "test(model.factors['Age']['35-49'] == 0.248000399920016)"
   ],
   "outputs": [],
   "metadata": {}
  },
  {
   "cell_type": "markdown",
   "source": [
    "## [20 Marks] Task 3 - Bayesian Network Classification\n",
    "\n",
    "Design a new function ``assess_bayes_net(model, dataframe, var)`` that uses the test cases in ``dataframe`` to assess the performance of the Bayesian network at classifying the variable `var`. Implement the efficient classification procedure discussed in the lectures (make sure you understand what a Markov Blanket is). Such a function should return the classifier accuracy. \n",
    "\n",
    " * ``var`` is the name of the variable you are predicting, using the values of all the other variables. \n",
    " \n",
    "If you like, you can add new functions to the BayesNet class, or write helper functions to help solve the above task.\n",
    "\n",
    "Using another function called `cross_validation_bayes_net`, compute and report the average accuracy over the ten cross-validation runs as well as the standard deviation. A scaffold for this function is provided below."
   ],
   "metadata": {}
  },
  {
   "cell_type": "code",
   "execution_count": null,
   "source": [
    "## Develop your code for assess_bayes_net in one or more cells here"
   ],
   "outputs": [],
   "metadata": {}
  },
  {
   "cell_type": "code",
   "execution_count": null,
   "source": [
    "model = BayesNet(...)\n",
    "def assess_bayes_net(model, dataframe, var='BC'):\n",
    "    ...\n",
    "    return acc\n",
    "\n",
    "def cross_validation_bayes_net(dataframe, var='BC', k=10):\n",
    "    accuracy_list = []\n",
    "    for i in range(k):\n",
    "        # split dataset into train and test\n",
    "        ...\n",
    "        \n",
    "        # train a model\n",
    "        ...\n",
    "        \n",
    "        # test the model with assess_bayes_net\n",
    "        acc = ...\n",
    "        \n",
    "        accuracy_list.append(acc)\n",
    "    return np.mean(accuracy_list), np.std(accuracy_list)\n"
   ],
   "outputs": [],
   "metadata": {}
  },
  {
   "cell_type": "code",
   "execution_count": null,
   "source": [
    "############\n",
    "## TEST CODE\n",
    "\n",
    "acc, stddev = cross_validation_bayes_net(data, 'BC', 10)\n",
    "test(abs(acc - 0.85) < 0.05)"
   ],
   "outputs": [],
   "metadata": {}
  },
  {
   "cell_type": "markdown",
   "source": [
    "## [10 Marks] Task 4 - Naïve Bayes Classification\n",
    "\n",
    "Design a new function ``assess_naive_bayes(model, data, var)`` to classify and assess the test cases in ``data``. To classify each example, use the log probability trick discussed in the lectures. Do $k$-fold cross-validation with the `cross_validation_naive_bayes(data, var, k)` function, same as above, and return ``acc`` and ``stddev``."
   ],
   "metadata": {}
  },
  {
   "cell_type": "code",
   "execution_count": null,
   "source": [
    "## Develop your code for assess_naive_bayes(model, data, var) in one or more cells here"
   ],
   "outputs": [],
   "metadata": {}
  },
  {
   "cell_type": "code",
   "execution_count": null,
   "source": [
    "...\n",
    "\n",
    "\n",
    "def assess_naive_bayes(model, dataframe, var='BC'):\n",
    "    ...\n",
    "    return accuracy\n",
    "    \n",
    "def cross_validation_naive_bayes(dataframe, var='BC', k=10):\n",
    "    accuracy_list = []\n",
    "    for i in range(k):\n",
    "        # split dataset into train and test\n",
    "        ...\n",
    "        \n",
    "        # create and train a model\n",
    "        ...\n",
    "        \n",
    "        # test the model with assess_naive_bayes\n",
    "        acc = ...\n",
    "        \n",
    "        accuracy_list.append(acc)\n",
    "    return np.mean(accuracy_list), np.std(accuracy_list)\n",
    "    "
   ],
   "outputs": [],
   "metadata": {}
  },
  {
   "cell_type": "code",
   "execution_count": null,
   "source": [
    "############\n",
    "## TEST CODE\n",
    "\n",
    "acc, stddev = cross_validation_naive_bayes(data, 'BC')\n",
    "test(abs(acc - 0.80) < 0.05)"
   ],
   "outputs": [],
   "metadata": {}
  },
  {
   "cell_type": "markdown",
   "source": [
    "## [20 Marks] Task 5 - Tree-augmented Naïve Bayes Classification\n",
    "\n",
    "Similarly to the previous task, implement a Tree-augmented Naïve Bayes (TAN) classifier and evaluate your implementation in the breast cancer dataset. Design a function ``learn_tan_structure(data, class_var)`` to learn the TAN structure (graph) from ``data`` and return such a structure. Scaffolds for required functions are given below. Implement other helper functions as necessary."
   ],
   "metadata": {}
  },
  {
   "cell_type": "code",
   "execution_count": null,
   "source": [
    "## Develop your code for learn_tan_structure(data) in one or more cells here"
   ],
   "outputs": [],
   "metadata": {}
  },
  {
   "cell_type": "code",
   "execution_count": null,
   "source": [
    "def learn_tan_structure(data, class_var='BC'):\n",
    "    '''\n",
    "    Arguments:\n",
    "        data: a dataframe\n",
    "        class_var: The variable you will be classifying with this graph structure\n",
    "    Return:\n",
    "        graph: A Graph object\n",
    "    '''\n",
    "    ...\n",
    "    return graph\n",
    "\n",
    "...\n",
    "\n",
    "def cross_validation_tan(data, var='BC', k=10):\n",
    "    ...\n",
    "    return np.mean(accuracy_list), np.std(accuracy_list)"
   ],
   "outputs": [],
   "metadata": {}
  },
  {
   "cell_type": "code",
   "execution_count": null,
   "source": [
    "############\n",
    "## TEST CODE\n",
    "\n",
    "tan_graph = learn_tan_structure(data)\n",
    "test(len(tan_graph.children('BC')) == len(tan_graph)-1)\n",
    "test('FibrTissueDev' in tan_graph.children('Spiculation') or 'Spiculation' in tan_graph.children('FibrTissueDev'))"
   ],
   "outputs": [],
   "metadata": {}
  },
  {
   "cell_type": "markdown",
   "source": [
    "## [20 Marks] Task 6 - Report\n",
    "\n",
    "Write a report (**with less than 500 words**) summarising your findings in this assignment. Your report should address the following:\n",
    "\n",
    "a. Make a summary and discussion of the experimental results. You can analyse your results from different aspects such as accuracy, runtime, coding complexity and independence assumptions. You can use plots to illustrate your results.\n",
    "\n",
    "b. Discuss the time and memory complexity of the implemented algorithms.\n",
    "\n",
    "Use Markdown and Latex to write your report in the Jupyter notebook. Develop some plots using Matplotlib to illustrate your results. Be mindful of the maximum number of words. Please, be concise and objective."
   ],
   "metadata": {}
  }
 ],
 "metadata": {
  "kernelspec": {
   "display_name": "Python 3",
   "language": "python",
   "name": "python3"
  },
  "language_info": {
   "codemirror_mode": {
    "name": "ipython",
    "version": 3
   },
   "file_extension": ".py",
   "mimetype": "text/x-python",
   "name": "python",
   "nbconvert_exporter": "python",
   "pygments_lexer": "ipython3",
   "version": "3.8.10"
  }
 },
 "nbformat": 4,
 "nbformat_minor": 2
}